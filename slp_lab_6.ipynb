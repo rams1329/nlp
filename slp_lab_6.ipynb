{
  "cells": [
    {
      "cell_type": "markdown",
      "metadata": {
        "id": "OYRoQhI_nMQv"
      },
      "source": [
        "# **RAMANATHAN 21BAI1723**"
      ]
    },
    {
      "cell_type": "code",
      "execution_count": null,
      "metadata": {
        "id": "hK4qKLssxvfQ"
      },
      "outputs": [],
      "source": [
        "state =['NOUN', 'VERB', 'PRON', 'ADJ']\n",
        "obs = ['he', 'reads', 'books', 'football', 'quick', 'lazy', 'runs', 'the','eats']\n",
        "\n",
        "sp = {'NOUN':0.4,'VERB':0,'PRON':0.6,'ADJ':0}\n",
        "tp = {\n",
        "    'NOUN': {\n",
        "        'NOUN': 0.2,   # Staying a NOUN\n",
        "        'VERB': 0.1,   # Transitioning to a VERB\n",
        "        'PRON': 0.1,   # Transitioning to a PRON\n",
        "        'ADJ': 0.6     # Transitioning to an ADJ (e.g., adjectives often follow nouns)\n",
        "    },\n",
        "    'VERB': {\n",
        "        'NOUN': 0.5,   # Transitioning to a NOUN (e.g., verbs often lead to nouns)\n",
        "        'VERB': 0.2,   # Staying a VERB\n",
        "        'PRON': 0.1,   # Transitioning to a PRON\n",
        "        'ADJ': 0.2     # Transitioning to an ADJ\n",
        "    },\n",
        "    'PRON': {\n",
        "        'NOUN': 0.4,   # Transitioning to a NOUN (e.g., pronouns can lead to nouns)\n",
        "        'VERB': 0.3,   # Transitioning to a VERB\n",
        "        'PRON': 0.3,   # Staying a PRON\n",
        "        'ADJ': 0.0     # Less likely to transition to an ADJ\n",
        "    },\n",
        "    'ADJ': {\n",
        "        'NOUN': 0.7,   # Adjectives typically modify nouns\n",
        "        'VERB': 0.1,   # Less likely to transition to a VERB\n",
        "        'PRON': 0.1,   # Less likely to transition to a PRON\n",
        "        'ADJ': 0.1     # Staying an ADJ\n",
        "    }\n",
        "}\n",
        "\n",
        "ep = {\n",
        "    'NOUN': {\n",
        "        'he': 0.0,      # \"he\" is not a NOUN\n",
        "        'reads': 0.0,   # \"reads\" is not a NOUN\n",
        "        'books': 0.4,   # \"books\" is a NOUN\n",
        "        'football': 0.6  # \"football\" is a NOUN\n",
        "    },\n",
        "    'VERB': {\n",
        "        'he': 0.0,      # \"he\" is not a VERB\n",
        "        'reads': 0.6,   # \"reads\" is a VERB\n",
        "        'books': 0.0,   # \"books\" is not a VERB\n",
        "        'football': 0.0  # \"football\" is not a VERB\n",
        "    },\n",
        "    'PRON': {\n",
        "        'he': 1.0,      # \"he\" is a PRON\n",
        "        'reads': 0.0,   # \"reads\" is not a PRON\n",
        "        'books': 0.0,   # \"books\" is not a PRON\n",
        "        'football': 0.0  # \"football\" is not a PRON\n",
        "    },\n",
        "    'ADJ': {\n",
        "        'he': 0.0,      # \"he\" is not an ADJ\n",
        "        'reads': 0.0,   # \"reads\" is not an ADJ\n",
        "        'books': 0.0,   # \"books\" is not an ADJ\n",
        "        'football': 0.0  # \"football\" is not an ADJ\n",
        "    }\n",
        "}\n"
      ]
    },
    {
      "cell_type": "code",
      "execution_count": null,
      "metadata": {
        "colab": {
          "base_uri": "https://localhost:8080/"
        },
        "id": "wmVYLA3O7Zmz",
        "outputId": "ee7ca633-6752-4fa6-e3f6-a8039e63dfbd"
      },
      "outputs": [
        {
          "name": "stdout",
          "output_type": "stream",
          "text": [
            "Best Path: ['N', 'P', 'R']\n",
            "Viterbi Table:\n",
            " [[0.     0.108  0.    ]\n",
            " [0.     0.     0.0324]\n",
            " [0.     0.     0.    ]\n",
            " [0.6    0.     0.    ]]\n"
          ]
        }
      ],
      "source": [
        "import numpy as np\n",
        "def viterbi(sentence, states, sp, tp, ep):\n",
        "    num_obs = len(sentence)\n",
        "    num_states = len(states)\n",
        "\n",
        "    viterbi_table = np.zeros((num_states, num_obs))\n",
        "    path_table = np.zeros((num_states, num_obs), dtype=int)\n",
        "\n",
        "    for i, state in enumerate(states):\n",
        "        viterbi_table[i, 0] = sp[state] * ep[state].get(sentence[0], 0)\n",
        "\n",
        "    for t in range(1, num_obs):\n",
        "        for i, state in enumerate(states):\n",
        "            max_prob = -1\n",
        "            max_state_index = 0\n",
        "            for j, prev_state in enumerate(states):\n",
        "                prob = (viterbi_table[j, t - 1] * tp[prev_state][state] * ep[state].get(sentence[t], 0))\n",
        "                if prob > max_prob:\n",
        "                    max_prob = prob\n",
        "                    max_state_index = j\n",
        "            viterbi_table[i, t] = max_prob\n",
        "            path_table[i, t] = max_state_index\n",
        "\n",
        "    best_path = [0] * num_obs\n",
        "    best_path[-1] = np.argmax(viterbi_table[:, num_obs - 1])\n",
        "    for t in range(num_obs - 2, -1, -1):\n",
        "      best_path[t] = path_table[best_path[t + 1], t + 1]\n",
        "    best_path = [state[i] for i in best_path]\n",
        "    return best_path, viterbi_table\n",
        "\n",
        "sentence = ['he', 'reads', 'football']  # Note: \"eats\" is not in the observations\n",
        "best_path, viterbi_table = viterbi(sentence, states, sp, tp, ep)\n",
        "print(\"Best Path:\", best_path)\n",
        "print(\"Viterbi Table:\\n\", viterbi_table)"
      ]
    },
    {
      "cell_type": "code",
      "execution_count": null,
      "metadata": {
        "id": "GNOvK4FB_tcB"
      },
      "outputs": [],
      "source": []
    }
  ],
  "metadata": {
    "colab": {
      "provenance": []
    },
    "kernelspec": {
      "display_name": "Python 3",
      "name": "python3"
    },
    "language_info": {
      "name": "python"
    }
  },
  "nbformat": 4,
  "nbformat_minor": 0
}
